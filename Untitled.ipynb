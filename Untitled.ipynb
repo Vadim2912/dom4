{
 "cells": [
  {
   "cell_type": "code",
   "execution_count": 1,
   "metadata": {},
   "outputs": [],
   "source": [
    "data = [\n",
    "    [13, 25, 23, 34],\n",
    "    [45, 32, 44, 47],\n",
    "    [12, 33, 23, 95],\n",
    "    [13, 53, 34, 35]\n",
    "]\n"
   ]
  },
  {
   "cell_type": "code",
   "execution_count": 2,
   "metadata": {},
   "outputs": [
    {
     "name": "stdout",
     "output_type": "stream",
     "text": [
      "103\n"
     ]
    }
   ],
   "source": [
    "u = (data[0][0] + data[1][1] + data[2][2] + data[3][3])\n",
    "print(u)"
   ]
  },
  {
   "cell_type": "code",
   "execution_count": 4,
   "metadata": {},
   "outputs": [
    {
     "name": "stdout",
     "output_type": "stream",
     "text": [
      "Номер элемента ряда Фибоначчи: 1\n",
      "1\n"
     ]
    }
   ],
   "source": [
    "fib1 = 1\n",
    "fib2 = 1\n",
    " \n",
    "n = input(\"Номер элемента ряда Фибоначчи: \")\n",
    "n = int(n)\n",
    " \n",
    "i = 0\n",
    "while i < n - 2:\n",
    "    fib_sum = fib1 + fib2\n",
    "    fib1 = fib2\n",
    "    fib2 = fib_sum\n",
    "    i = i + 1\n",
    " \n",
    "print(fib2)"
   ]
  },
  {
   "cell_type": "code",
   "execution_count": 6,
   "metadata": {},
   "outputs": [
    {
     "name": "stdout",
     "output_type": "stream",
     "text": [
      "3\n",
      "1 1 2 \n"
     ]
    }
   ],
   "source": [
    "fib1 = fib2 = 1\n",
    " \n",
    "n = int(input())\n",
    " \n",
    "if n < 2:\n",
    "    quit()\n",
    " \n",
    "print(fib1, end=' ')\n",
    "print(fib2, end=' ')\n",
    "for i in range(2, n):\n",
    "    fib1, fib2 = fib2, fib1 + fib2\n",
    "    print(fib2, end=' ')\n",
    " \n",
    "print()"
   ]
  },
  {
   "cell_type": "code",
   "execution_count": 10,
   "metadata": {},
   "outputs": [
    {
     "name": "stdout",
     "output_type": "stream",
     "text": [
      "3524578\n"
     ]
    }
   ],
   "source": [
    "def fibonacci(n):\n",
    "    if n in (1, 2):\n",
    "        return 1\n",
    "    return fibonacci(n - 1) + fibonacci(n - 2)\n",
    " \n",
    " \n",
    "print(fibonacci(33))"
   ]
  },
  {
   "cell_type": "code",
   "execution_count": null,
   "metadata": {},
   "outputs": [],
   "source": []
  }
 ],
 "metadata": {
  "kernelspec": {
   "display_name": "Python 3",
   "language": "python",
   "name": "python3"
  },
  "language_info": {
   "codemirror_mode": {
    "name": "ipython",
    "version": 3
   },
   "file_extension": ".py",
   "mimetype": "text/x-python",
   "name": "python",
   "nbconvert_exporter": "python",
   "pygments_lexer": "ipython3",
   "version": "3.7.3"
  }
 },
 "nbformat": 4,
 "nbformat_minor": 2
}
